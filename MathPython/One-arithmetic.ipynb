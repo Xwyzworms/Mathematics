{
 "cells": [
  {
   "cell_type": "code",
   "execution_count": 1,
   "metadata": {},
   "outputs": [
    {
     "name": "stdout",
     "output_type": "stream",
     "text": [
      "12\n",
      "3\n",
      "9\n",
      "2\n",
      "4.7\n",
      "-0.030303030303030304\n",
      "15.0\n",
      "42\n",
      "0.0\n"
     ]
    }
   ],
   "source": [
    "from typing import List\n",
    "\n",
    "\"\"\"\n",
    "    Basic Arithmetic    \n",
    "\"\"\"\n",
    "addition : int = 4 + 8\n",
    "substraction : int = 4 - 1\n",
    "multiplication : int = 3 * 3\n",
    "division : int = 4 // 2\n",
    "\n",
    "print(addition)\n",
    "print(substraction)\n",
    "print(multiplication)\n",
    "print(division)\n",
    "\n",
    "\"\"\"\n",
    "    The Given probvlems\n",
    "\"\"\"\n",
    "print(5 - (2/4) * (3/5) )\n",
    "print((4-5) / (3+ (5*6)))\n",
    "\n",
    "\n",
    "\"\"\"\n",
    "    Variables : Just a placeholder \n",
    "    Use Explainable Varaiable Name\n",
    "\"\"\"\n",
    "x : int =5\n",
    "y : int = 10\n",
    "print(x + y / y * y )\n",
    "\n",
    "\"\"\"\n",
    "    The given problem\n",
    "\"\"\"\n",
    "\n",
    "x = 7\n",
    "y = -2\n",
    "z = 5\n",
    "\n",
    "print((3*x) * ( 4 + y) )\n",
    "print(-y - ((x + 3) / z))"
   ]
  },
  {
   "cell_type": "code",
   "execution_count": 2,
   "metadata": {},
   "outputs": [
    {
     "data": {
      "text/plain": [
       "' 4 + 3 = 7'"
      ]
     },
     "metadata": {},
     "output_type": "display_data"
    },
    {
     "data": {
      "text/plain": [
       "'4 + 3 = 7 '"
      ]
     },
     "metadata": {},
     "output_type": "display_data"
    },
    {
     "data": {
      "text/latex": [
       "$\\displaystyle 4+3=7$"
      ],
      "text/plain": [
       "<IPython.core.display.Math object>"
      ]
     },
     "metadata": {},
     "output_type": "display_data"
    },
    {
     "data": {
      "text/latex": [
       "$\\displaystyle 9$"
      ],
      "text/plain": [
       "<IPython.core.display.Math object>"
      ]
     },
     "metadata": {},
     "output_type": "display_data"
    },
    {
     "data": {
      "text/latex": [
       "$\\displaystyle 4 + 5 = 9$"
      ],
      "text/plain": [
       "<IPython.core.display.Math object>"
      ]
     },
     "metadata": {},
     "output_type": "display_data"
    },
    {
     "data": {
      "text/latex": [
       "$\\displaystyle 4 + 5 = 9$"
      ],
      "text/plain": [
       "<IPython.core.display.Math object>"
      ]
     },
     "metadata": {},
     "output_type": "display_data"
    },
    {
     "data": {
      "text/latex": [
       "$\\displaystyle \\frac{4}{5} = .8$"
      ],
      "text/plain": [
       "<IPython.core.display.Math object>"
      ]
     },
     "metadata": {},
     "output_type": "display_data"
    },
    {
     "data": {
      "text/latex": [
       "$\\displaystyle 4 \\times 5 = 20$"
      ],
      "text/plain": [
       "<IPython.core.display.Math object>"
      ]
     },
     "metadata": {},
     "output_type": "display_data"
    },
    {
     "name": "stdout",
     "output_type": "stream",
     "text": [
      "################\n",
      "EXERCISE\n",
      "################\n"
     ]
    },
    {
     "data": {
      "text/latex": [
       "$\\displaystyle 3 \\times 7( 4 + -2 ) = 42$"
      ],
      "text/plain": [
       "<IPython.core.display.Math object>"
      ]
     },
     "metadata": {},
     "output_type": "display_data"
    },
    {
     "data": {
      "text/latex": [
       "$\\displaystyle - -2 - \\frac{7 + 3}{5} = 0$"
      ],
      "text/plain": [
       "<IPython.core.display.Math object>"
      ]
     },
     "metadata": {},
     "output_type": "display_data"
    }
   ],
   "source": [
    "\"\"\"\n",
    "    WRITING LATEX\n",
    "\"\"\"\n",
    "\n",
    "from IPython.display import display, Math\n",
    "\n",
    "display(\" 4 + 3 = 7\")\n",
    "display(\"4 + 3 = %s \" %str(4 +3))\n",
    "\n",
    "display(Math(\"4+3=7\"))\n",
    "\n",
    "x : int = 4\n",
    "y : int = 5\n",
    "\n",
    "display(Math(str(x+y)))\n",
    "display (Math ( str(x) + \" + \" +str(y) + \" = \" + str(x+y)))\n",
    "display( Math(\"%d + %d = %d\" % (x,y,x+y) ))\n",
    "display( Math(\"\\\\frac{4}{5} = .8\"))\n",
    "display( Math(\"%d \\\\times %d = %d\" % (x,y,x*y)))\n",
    "\n",
    "\"\"\"\n",
    "    Exercise Problems\n",
    "\"\"\"\n",
    "\n",
    "print(\"################\")\n",
    "print(\"EXERCISE\")\n",
    "print(\"################\")\n",
    "x : int = 7\n",
    "y : int = -2\n",
    "z : int = 5\n",
    "\n",
    "\n",
    "display(Math(\"3 \\\\times %d( 4 + %d ) = %d\" % (x,y,(3*x)*(4+y))))\n",
    "display(Math(\"- %d - \\\\frac{%d + 3}{%d} = %d\" % (y,x,z, 0)) )\n"
   ]
  },
  {
   "attachments": {},
   "cell_type": "markdown",
   "metadata": {},
   "source": [
    "## Exponents POWER"
   ]
  },
  {
   "cell_type": "code",
   "execution_count": 3,
   "metadata": {},
   "outputs": [
    {
     "data": {
      "text/latex": [
       "$\\displaystyle 3 ^3, 3 \\times 3 \\times 3 = 27 $"
      ],
      "text/plain": [
       "<IPython.core.display.Math object>"
      ]
     },
     "metadata": {},
     "output_type": "display_data"
    },
    {
     "data": {
      "text/latex": [
       "$\\displaystyle 2 ^2 \\times 2^4, 2^{2+4} = 2 \\times 2 \\times 2 \\times 2 \\times 2 \\times 2$"
      ],
      "text/plain": [
       "<IPython.core.display.Math object>"
      ]
     },
     "metadata": {},
     "output_type": "display_data"
    },
    {
     "data": {
      "text/latex": [
       "$\\displaystyle 5^{3/4} \\times 4^5 = 3933.09$"
      ],
      "text/plain": [
       "<IPython.core.display.Math object>"
      ]
     },
     "metadata": {},
     "output_type": "display_data"
    },
    {
     "data": {
      "text/latex": [
       "$\\displaystyle \\frac{3^3}{5^5.100000} = 0.00736$"
      ],
      "text/plain": [
       "<IPython.core.display.Math object>"
      ]
     },
     "metadata": {},
     "output_type": "display_data"
    },
    {
     "data": {
      "text/latex": [
       "$\\displaystyle 10^{5-4} = 10 $"
      ],
      "text/plain": [
       "<IPython.core.display.Math object>"
      ]
     },
     "metadata": {},
     "output_type": "display_data"
    }
   ],
   "source": [
    "import numpy as np\n",
    "## Exponents\n",
    "## Pada dasarnya ini fungsi power adalah untuk buat simetris yak ( Salah satunya )\n",
    "## katakannya 2 ^ 3 = 2 x 2 x 2 ( P x l x t ) Mengahsilkan suatu yang simetris\n",
    "x: int = 5\n",
    "\n",
    "display(Math(\"3 ^%d, 3 \\\\times 3 \\\\times 3 = %d \" % (3,27 )))\n",
    "display(Math(\"2 ^2 \\\\times 2^4, 2^{2+4} = 2 \\\\times 2 \\\\times 2 \\\\times 2 \\\\times 2 \\\\times 2\"))\n",
    "## Dan terkadang suka ada kan pangkat setengah, itu basically, untuk mendapatkan nilai simetris dari sebuah AREA ( salah satunya )\n",
    "## Misalnya kamu punya ladang Persegi dengan area 28, kamu ingin menempatkan keramik yang simetris sehingga \n",
    "## area 28 itu memiliki ukuran keramik yang simetris, maka kamu hanya perlu melakukan SQRT saja, dan mendapatkan 2 Variabel  ( P dan L )\n",
    "## yaitu 5,29 ( jadi kamu hanya perlu keramik dengan ukuran 5,29 * 5,29 )\n",
    "\n",
    "\n",
    "#########################################################################################################################\n",
    "# EXERCISES\n",
    "#########################################################################################################################\n",
    "x : float =5\n",
    "y : float = 5.1\n",
    "result1 = 5**(3/4) * 4**y\n",
    "result2 : float = (3**3) / (x**y)\n",
    "result3 : float = (10**(x-4))\n",
    "display(Math(\"%d^{3/4} \\\\times 4^%d = %.2f\" %(x,y,round(result1,2))))\n",
    "display(Math(\"\\\\frac{3^3}{%d^%f} = %.5f\" % (x,y, result2)))\n",
    "display(Math(\"10^{%d-4} = %d \" % (x,result3)))\n"
   ]
  },
  {
   "attachments": {},
   "cell_type": "markdown",
   "metadata": {},
   "source": [
    "# For Floops"
   ]
  },
  {
   "cell_type": "code",
   "execution_count": 6,
   "metadata": {},
   "outputs": [
    {
     "name": "stdout",
     "output_type": "stream",
     "text": [
      "2 to the power of 0 is 1\n",
      "2 to the power of 1 is 2\n",
      "2 to the power of 2 is 4\n",
      "2 to the power of 3 is 8\n",
      "2 to the power of 4 is 16\n",
      "2 to the power of 5 is 32\n",
      "2 to the power of 6 is 64\n",
      "2 to the power of 7 is 128\n",
      "2 to the power of 8 is 256\n",
      "2 to the power of 9 is 512\n"
     ]
    }
   ],
   "source": [
    "\n",
    "#########################################################################################################################\n",
    "# Simply Just looping , going through the exercise directly\n",
    "#########################################################################################################################\n",
    "\n",
    "listOfPowers : List[int] = list(range(0,10))\n",
    "for i in listOfPowers :\n",
    "    print(\"2 to the power of %g is %g\" %(i, 2**i))\n"
   ]
  },
  {
   "attachments": {},
   "cell_type": "markdown",
   "metadata": {},
   "source": [
    "# ORDER OF OPERATIONS"
   ]
  },
  {
   "cell_type": "code",
   "execution_count": 11,
   "metadata": {},
   "outputs": [
    {
     "data": {
      "text/latex": [
       "$\\displaystyle (4 x 5) / (7 + 3) = 2$"
      ],
      "text/plain": [
       "<IPython.core.display.Math object>"
      ]
     },
     "metadata": {},
     "output_type": "display_data"
    },
    {
     "data": {
      "text/latex": [
       "$\\displaystyle (9 / (3 + 6 ))- 1 = 0$"
      ],
      "text/plain": [
       "<IPython.core.display.Math object>"
      ]
     },
     "metadata": {},
     "output_type": "display_data"
    }
   ],
   "source": [
    "#########################################################################################################################\n",
    "# Simply PEMDAS {Parantheses, Exponents, Mult, Div, Add, Sub} \n",
    "#########################################################################################################################\n",
    "eq1 = (4 * 5) / (7 + 3)\n",
    "eq2 = (9 / (3 + 6 )) - 1\n",
    "display(Math(\"(4 x 5) / (7 + 3) = %g\" %(eq1)))\n",
    "display(Math(\"(9 / (3 + 6 ))- 1 = %g\" % (eq2)))\n"
   ]
  },
  {
   "attachments": {},
   "cell_type": "markdown",
   "metadata": {},
   "source": [
    "# Inequalities "
   ]
  },
  {
   "cell_type": "code",
   "execution_count": 13,
   "metadata": {},
   "outputs": [
    {
     "name": "stdout",
     "output_type": "stream",
     "text": [
      "True\n",
      "False\n",
      "False\n",
      "True\n",
      "True\n",
      "True\n"
     ]
    }
   ],
   "source": [
    "\n",
    "#########################################################################################################################\n",
    "# Just Simple Inequealities\n",
    "#########################################################################################################################\n",
    "\n",
    "\n",
    "x : int = 2\n",
    "y : int = 3\n",
    "z : int = 4\n",
    "\n",
    "print(4*x + 3 < 17 - x**2)\n",
    "print(4*y + 3 < 17 - y**2)\n",
    "print(4*z + 3 < 17 - z**2)\n",
    "\n",
    "\n",
    "print(8*x - 2 <= -3*x + 42)\n",
    "print(8*y - 2 <= -3*y + 42)\n",
    "print(8*z - 2 <= -3*z + 42)\n"
   ]
  },
  {
   "attachments": {},
   "cell_type": "markdown",
   "metadata": {},
   "source": [
    "# IF Statements"
   ]
  },
  {
   "cell_type": "code",
   "execution_count": 25,
   "metadata": {},
   "outputs": [
    {
     "data": {
      "text/latex": [
       "$\\displaystyle 1^{-1} = 1$"
      ],
      "text/plain": [
       "<IPython.core.display.Math object>"
      ]
     },
     "metadata": {},
     "output_type": "display_data"
    },
    {
     "data": {
      "text/latex": [
       "$\\displaystyle 1^{-2} = 1$"
      ],
      "text/plain": [
       "<IPython.core.display.Math object>"
      ]
     },
     "metadata": {},
     "output_type": "display_data"
    },
    {
     "data": {
      "text/latex": [
       "$\\displaystyle 1^{-3} = 1$"
      ],
      "text/plain": [
       "<IPython.core.display.Math object>"
      ]
     },
     "metadata": {},
     "output_type": "display_data"
    },
    {
     "data": {
      "text/latex": [
       "$\\displaystyle 1^{-4} = 1$"
      ],
      "text/plain": [
       "<IPython.core.display.Math object>"
      ]
     },
     "metadata": {},
     "output_type": "display_data"
    },
    {
     "data": {
      "text/latex": [
       "$\\displaystyle 2^{-1} = 0.5$"
      ],
      "text/plain": [
       "<IPython.core.display.Math object>"
      ]
     },
     "metadata": {},
     "output_type": "display_data"
    },
    {
     "data": {
      "text/latex": [
       "$\\displaystyle 2^{-2} = 0.25$"
      ],
      "text/plain": [
       "<IPython.core.display.Math object>"
      ]
     },
     "metadata": {},
     "output_type": "display_data"
    },
    {
     "data": {
      "text/latex": [
       "$\\displaystyle 2^{-3} = 0.125$"
      ],
      "text/plain": [
       "<IPython.core.display.Math object>"
      ]
     },
     "metadata": {},
     "output_type": "display_data"
    },
    {
     "data": {
      "text/latex": [
       "$\\displaystyle 2^{-4} = 0.0625$"
      ],
      "text/plain": [
       "<IPython.core.display.Math object>"
      ]
     },
     "metadata": {},
     "output_type": "display_data"
    },
    {
     "data": {
      "text/latex": [
       "$\\displaystyle 3^{-1} = 0.333333$"
      ],
      "text/plain": [
       "<IPython.core.display.Math object>"
      ]
     },
     "metadata": {},
     "output_type": "display_data"
    },
    {
     "data": {
      "text/latex": [
       "$\\displaystyle 3^{-2} = 0.111111$"
      ],
      "text/plain": [
       "<IPython.core.display.Math object>"
      ]
     },
     "metadata": {},
     "output_type": "display_data"
    },
    {
     "data": {
      "text/latex": [
       "$\\displaystyle 3^{-3} = 0.037037$"
      ],
      "text/plain": [
       "<IPython.core.display.Math object>"
      ]
     },
     "metadata": {},
     "output_type": "display_data"
    },
    {
     "data": {
      "text/latex": [
       "$\\displaystyle 3^{-4} = 0.0123457$"
      ],
      "text/plain": [
       "<IPython.core.display.Math object>"
      ]
     },
     "metadata": {},
     "output_type": "display_data"
    }
   ],
   "source": [
    "\n",
    "#########################################################################################################################\n",
    "# Just Simple Loop\n",
    "#########################################################################################################################\n",
    "\n",
    "\n",
    "for i in range(0,4):\n",
    "    for j in range(0,5):\n",
    "        if(i > 0 and j > 0) :\n",
    "            ans = i**(-j)\n",
    "            display(Math(\"%g^{-%g} = %g\" % (i,j,ans)))\n",
    "\n",
    "\n"
   ]
  },
  {
   "attachments": {},
   "cell_type": "markdown",
   "metadata": {},
   "source": [
    "# Absolute Value"
   ]
  },
  {
   "cell_type": "code",
   "execution_count": 27,
   "metadata": {},
   "outputs": [
    {
     "name": "stdout",
     "output_type": "stream",
     "text": [
      "-4 was not tested\n"
     ]
    },
    {
     "data": {
      "text/latex": [
       "$\\displaystyle |6| = 6$"
      ],
      "text/plain": [
       "<IPython.core.display.Math object>"
      ]
     },
     "metadata": {},
     "output_type": "display_data"
    },
    {
     "name": "stdout",
     "output_type": "stream",
     "text": [
      "-1 was not tested\n"
     ]
    },
    {
     "data": {
      "text/latex": [
       "$\\displaystyle |43| = 43$"
      ],
      "text/plain": [
       "<IPython.core.display.Math object>"
      ]
     },
     "metadata": {},
     "output_type": "display_data"
    },
    {
     "data": {
      "text/latex": [
       "$\\displaystyle |-18| = 18$"
      ],
      "text/plain": [
       "<IPython.core.display.Math object>"
      ]
     },
     "metadata": {},
     "output_type": "display_data"
    },
    {
     "name": "stdout",
     "output_type": "stream",
     "text": [
      "2 was not tested\n",
      "0 was not tested\n"
     ]
    }
   ],
   "source": [
    "#########################################################################################################################\n",
    "# Ingat saja : Distance of the number to the origin. ( Jarak dari satu titik ke titik yang lain ), Number line ya ini\n",
    "#########################################################################################################################\n",
    "\n",
    "numbSet : List[int] = [-4, 6, -1, 43, -18, 2, 0]\n",
    "for num in numbSet:\n",
    "    if( num < -5 or num > 2):\n",
    "        display(Math(\"|%g| = %g\" %(num, abs(num))))\n",
    "    else :\n",
    "        print(\"%g was not tested\")\n"
   ]
  },
  {
   "attachments": {},
   "cell_type": "markdown",
   "metadata": {},
   "source": [
    "# Modulo"
   ]
  },
  {
   "cell_type": "code",
   "execution_count": 41,
   "metadata": {},
   "outputs": [
    {
     "name": "stdout",
     "output_type": "stream",
     "text": [
      "-5 is an odd Number\n",
      "-4 is an even Number\n",
      "-3 is an odd Number\n",
      "-2 is an even Number\n",
      "-1 is an odd Number\n",
      " 0 is an even Number\n",
      " 1 is an odd Number\n",
      " 2 is an even Number\n",
      " 3 is an odd Number\n",
      " 4 is an even Number\n",
      " 5 is an odd Number\n"
     ]
    }
   ],
   "source": [
    "listOfNums : List[int] = list(range(-5,6))\n",
    "for num in listOfNums:\n",
    "    fchar : str = ''\n",
    "    if num >= 0:\n",
    "        fchar = \" \"\n",
    "    if(num %  2 == 0) :\n",
    "        print(\"%s%g is an even Number\" % (fchar,num))\n",
    "    else :\n",
    "        print(\"%s%g is an odd Number\" % (fchar,num))"
   ]
  },
  {
   "attachments": {},
   "cell_type": "markdown",
   "metadata": {},
   "source": [
    "# Funcs"
   ]
  },
  {
   "cell_type": "code",
   "execution_count": 60,
   "metadata": {},
   "outputs": [
    {
     "name": "stdout",
     "output_type": "stream",
     "text": [
      "3\n"
     ]
    },
    {
     "data": {
      "text/latex": [
       "$\\displaystyle \\frac{1}{2}$"
      ],
      "text/plain": [
       "<IPython.core.display.Math object>"
      ]
     },
     "metadata": {},
     "output_type": "display_data"
    },
    {
     "data": {
      "text/latex": [
       "$\\displaystyle 4 + 5 = 9$"
      ],
      "text/plain": [
       "<IPython.core.display.Math object>"
      ]
     },
     "metadata": {},
     "output_type": "display_data"
    },
    {
     "data": {
      "text/latex": [
       "$\\displaystyle \\frac{4}{5} = 0.8$"
      ],
      "text/plain": [
       "<IPython.core.display.Math object>"
      ]
     },
     "metadata": {},
     "output_type": "display_data"
    },
    {
     "name": "stdout",
     "output_type": "stream",
     "text": [
      "9\n"
     ]
    },
    {
     "data": {
      "text/latex": [
       "$\\displaystyle 0\\times2 = 0$"
      ],
      "text/plain": [
       "<IPython.core.display.Math object>"
      ]
     },
     "metadata": {},
     "output_type": "display_data"
    },
    {
     "data": {
      "text/latex": [
       "$\\displaystyle 1\\times2 = 2$"
      ],
      "text/plain": [
       "<IPython.core.display.Math object>"
      ]
     },
     "metadata": {},
     "output_type": "display_data"
    },
    {
     "data": {
      "text/latex": [
       "$\\displaystyle 2\\times2 = 4$"
      ],
      "text/plain": [
       "<IPython.core.display.Math object>"
      ]
     },
     "metadata": {},
     "output_type": "display_data"
    },
    {
     "name": "stdout",
     "output_type": "stream",
     "text": [
      "True\n",
      "50 is Greater than 40. Time to celebrate\n",
      "3\n",
      "0.4\n"
     ]
    },
    {
     "data": {
      "text/latex": [
       "$\\displaystyle \\frac{9}{3} = 3.0$"
      ],
      "text/plain": [
       "<IPython.core.display.Math object>"
      ]
     },
     "metadata": {},
     "output_type": "display_data"
    },
    {
     "data": {
      "text/latex": [
       "$\\displaystyle \\frac{9}{4} = 2.25$"
      ],
      "text/plain": [
       "<IPython.core.display.Math object>"
      ]
     },
     "metadata": {},
     "output_type": "display_data"
    },
    {
     "name": "stdout",
     "output_type": "stream",
     "text": [
      "1\n",
      "2\n",
      "3\n",
      "4\n",
      "5\n",
      "6\n",
      "7\n",
      "8\n",
      "9\n",
      "10\n"
     ]
    }
   ],
   "source": [
    "\n",
    "#########################################################################################################################\n",
    "# Just Basic Function \n",
    "#########################################################################################################################\n",
    "\n",
    "def functionOfHopeless(x : int, y : int):\n",
    "    div : float = x / y\n",
    "    remainder : int = x % y\n",
    "    print(\"Division of %g with %g is %g, remainder %g\" %(x,y,div,remainder))\n",
    "\n",
    "#x : int = int(input(\"Input X : \"))\n",
    "#y : int = int(input(\"Input Y : \"))\n",
    "\n",
    "#functionOfHopeless(x,y)\n",
    "\n",
    "\n",
    "def computeXToThePowerOfY(x : float ,y : float ) -> float:\n",
    "   return x**y\n",
    "\n",
    "def computexDividedByY(x : float, y: float) -> float:\n",
    "    return x/y\n",
    "\n",
    "def main():\n",
    "    inpA : float = float(input(\"Input X: \"))\n",
    "    inpB : float = float(input(\"Input Y: \"))\n",
    "    display(Math('\\\\text{Press \"1\" to compute } %g^{%g} \\\\text{or press \"2\" to compute } \\\\frac{%g}{%g}' % (inpA,inpB,inpA,inpB)))\n",
    "    selection : str = input(\"Press '1' to compute powers and '2' to compute b\")\n",
    "    if(selection  =='1'):\n",
    "        display(Math(\"%g^%g = %g\" %(inpA,inpB, computeXToThePowerOfY(inpA,inpB))))\n",
    "    elif(selection == '2') :\n",
    "        display(Math(\"\\\\frac{%g}{%g} = %g\" %(inpA,inpB, computexDividedByY(inpA,inpB))))\n",
    "    else:\n",
    "        display(Math(\"%s is not in selection\" %(selection)))\n",
    "# main()\n",
    "\n",
    "\n",
    "#########################################################################################################################\n",
    "# Here are the Same information but for a small game\n",
    "#########################################################################################################################\n",
    "import random\n",
    "def guessTheNumber():\n",
    "    ranNum : int = random.randint(1,100)\n",
    "    num : int  = int(input(\"Guess a number between 1 and 100\"))\n",
    "    while(True):\n",
    "        if(num > ranNum) : \n",
    "            print(\"Guess Lower\")\n",
    "            num = int(input(\"Guess again\"))\n",
    "        elif(num < ranNum):\n",
    "            print(\"Guess Higher\")\n",
    "            num = int(input(\"Guess again\"))\n",
    "        else:\n",
    "            print(\"Got it! The Right Number was %g and your final guess was %g\" %(ranNum, num))\n",
    "            break\n",
    "# guessTheNumber()\n",
    "\n",
    "#########################################################################################################################\n",
    "# BUG HUNT TEMPLATE\n",
    "#########################################################################################################################\n",
    "\"\"\" \n",
    "\n",
    "x = '1'\n",
    "y = '2'\n",
    "\n",
    "print(x+y)\n",
    "\n",
    "display(Math('\\frac{1}{2}'))\n",
    "\n",
    "x = 4\n",
    "y = 5\n",
    "display(Math('%g + %g = %g'%(x,y)))\n",
    "\n",
    "display(Math('\\\\frac{%i}{%i} = %i'%(x,y,x/y)))\n",
    "\n",
    "3^2 # should equal 9\n",
    "\n",
    "for i in range(0,3)\n",
    "    display(Math('%g\\\\times2 = %g'%(i,i*2)))\n",
    "\n",
    "a = 10\n",
    "b = 20\n",
    "\n",
    "result = 2*a =< b\n",
    "\n",
    "print(result)\n",
    "\n",
    "if a+b*2 > 40 then:\n",
    "    print(str(a+b*2) + ' is greater than ' + str(40) + '. Time to celebrate!')\n",
    "\n",
    "var = input(input a number!)\n",
    "print(var)\n",
    "\n",
    "# division\n",
    "4\\10\n",
    "\n",
    "\n",
    "# sum two numbers\n",
    "w = input('Input a number: ')\n",
    "z = input('Input another number: ')\n",
    "\n",
    "print('The sum of %s and %s is %s' %(w,z,w+z))\n",
    "\n",
    "\n",
    "display(Math('\\\\frac{9}{3} = ' + str(9/3))\n",
    "\n",
    "\n",
    "# print the numbers 1 through 10\n",
    "t = 1\n",
    "while t<11:\n",
    "    print(t)\n",
    "\n",
    "\"\"\"\n",
    "#########################################################################################################################\n",
    "# BUG HUNT TEMPLATE\n",
    "#########################################################################################################################\n",
    "\n",
    "\n",
    "#########################################################################################################################\n",
    "#\n",
    "# BUG HUNT Answer\n",
    "#\n",
    "#########################################################################################################################\n",
    "\n",
    "#### First #####\n",
    "x : int = 1\n",
    "y : int = 2\n",
    "print(x+y)\n",
    "####       #####\n",
    "\n",
    "\n",
    "#### Second #####\n",
    "display(Math('\\\\frac{1}{2}'))\n",
    "####       #####\n",
    "\n",
    "#### Third #####\n",
    "x : int = 4\n",
    "y : int = 5\n",
    "display(Math(\"%g + %g = %g\" %(x,y, x+y)))\n",
    "####       #####\n",
    "\n",
    "\n",
    "#### Fourth #####\n",
    "display(Math(\"\\\\frac{%g}{%g} = %g\" %(x,y,x/y)))\n",
    "####       #####\n",
    "\n",
    "\n",
    "#### Five #####\n",
    "print(3**2)\n",
    "####       #####\n",
    "\n",
    "\n",
    "#### Six #####\n",
    "for i in range(0,3):\n",
    "    display(Math(\"%g\\\\times2 = %g\" %(i,i*2)))\n",
    "####       #####\n",
    "\n",
    "\n",
    "#### Seven #####\n",
    "a : int = 10\n",
    "b : int = 20\n",
    "\n",
    "result : bool = 2*a <= b\n",
    "print(result)\n",
    "####       #####\n",
    "\n",
    "#### Eight #####\n",
    "if a+b*2 > 40 :\n",
    "    print(str(a+b*2) + \" is Greater than \" + str(40) + \". Time to celebrate\")\n",
    "####       #####\n",
    "\n",
    "\n",
    "#### Nine #####\n",
    "var : str = input(\"Input a Number\")\n",
    "print(var)\n",
    "####       #####\n",
    "\n",
    "\n",
    "#### Ten #####\n",
    "print(4/10)\n",
    "####       #####\n",
    "\n",
    "\n",
    "#### JuuIchi #####\n",
    "w : int = int(input(\"Input a number: \"))\n",
    "z : int = int(input(\"Input another number: \"))\n",
    "\n",
    "print(\"The sum of %g and %g is %g\" %(w,z,w+z))\n",
    "####       #####\n",
    "\n",
    "\n",
    "#### JuuNi #####\n",
    "display(Math(\"\\\\frac{9}{3} = \" + str(9/3)))\n",
    "####       #####\n",
    "\n",
    "\n",
    "#### JuuSan #####\n",
    "display(Math(\"\\\\frac{9}{4} = \"+ str(9/4)))\n",
    "####       #####\n",
    "\n",
    "#### JuuYon #####\n",
    "t = 1\n",
    "while t < 11:\n",
    "    print(t)\n",
    "    t+=1\n",
    "####       #####"
   ]
  },
  {
   "cell_type": "code",
   "execution_count": null,
   "metadata": {},
   "outputs": [],
   "source": []
  }
 ],
 "metadata": {
  "kernelspec": {
   "display_name": "DataSiens",
   "language": "python",
   "name": "python3"
  },
  "language_info": {
   "codemirror_mode": {
    "name": "ipython",
    "version": 3
   },
   "file_extension": ".py",
   "mimetype": "text/x-python",
   "name": "python",
   "nbconvert_exporter": "python",
   "pygments_lexer": "ipython3",
   "version": "3.9.12"
  },
  "orig_nbformat": 4,
  "vscode": {
   "interpreter": {
    "hash": "8a28ba3cb4290f43887b639e4d902048abae311a128a19465268895f960a8f8d"
   }
  }
 },
 "nbformat": 4,
 "nbformat_minor": 2
}
