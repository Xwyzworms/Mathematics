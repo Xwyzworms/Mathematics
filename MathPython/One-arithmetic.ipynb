{
 "cells": [
  {
   "cell_type": "code",
   "execution_count": 2,
   "metadata": {},
   "outputs": [
    {
     "name": "stdout",
     "output_type": "stream",
     "text": [
      "12\n",
      "3\n",
      "9\n",
      "2\n",
      "4.7\n",
      "-0.030303030303030304\n",
      "15.0\n",
      "42\n",
      "0.0\n"
     ]
    }
   ],
   "source": [
    "\"\"\"\n",
    "    Basic Arithmetic    \n",
    "\"\"\"\n",
    "addition : int = 4 + 8\n",
    "substraction : int = 4 - 1\n",
    "multiplication : int = 3 * 3\n",
    "division : int = 4 // 2\n",
    "\n",
    "print(addition)\n",
    "print(substraction)\n",
    "print(multiplication)\n",
    "print(division)\n",
    "\n",
    "\"\"\"\n",
    "    The Given probvlems\n",
    "\"\"\"\n",
    "print(5 - (2/4) * (3/5) )\n",
    "print((4-5) / (3+ (5*6)))\n",
    "\n",
    "\n",
    "\"\"\"\n",
    "    Variables : Just a placeholder \n",
    "    Use Explainable Varaiable Name\n",
    "\"\"\"\n",
    "x : int =5\n",
    "y : int = 10\n",
    "print(x + y / y * y )\n",
    "\n",
    "\"\"\"\n",
    "    The given problem\n",
    "\"\"\"\n",
    "\n",
    "x = 7\n",
    "y = -2\n",
    "z = 5\n",
    "\n",
    "print((3*x) * ( 4 + y) )\n",
    "print(-y - ((x + 3) / z))"
   ]
  },
  {
   "cell_type": "code",
   "execution_count": 3,
   "metadata": {},
   "outputs": [
    {
     "data": {
      "text/plain": [
       "' 4 + 3 = 7'"
      ]
     },
     "metadata": {},
     "output_type": "display_data"
    },
    {
     "data": {
      "text/plain": [
       "'4 + 3 = 7 '"
      ]
     },
     "metadata": {},
     "output_type": "display_data"
    },
    {
     "data": {
      "text/latex": [
       "$\\displaystyle 4+3=7$"
      ],
      "text/plain": [
       "<IPython.core.display.Math object>"
      ]
     },
     "metadata": {},
     "output_type": "display_data"
    },
    {
     "data": {
      "text/latex": [
       "$\\displaystyle 9$"
      ],
      "text/plain": [
       "<IPython.core.display.Math object>"
      ]
     },
     "metadata": {},
     "output_type": "display_data"
    },
    {
     "data": {
      "text/latex": [
       "$\\displaystyle 4 + 5 = 9$"
      ],
      "text/plain": [
       "<IPython.core.display.Math object>"
      ]
     },
     "metadata": {},
     "output_type": "display_data"
    },
    {
     "data": {
      "text/latex": [
       "$\\displaystyle 4 + 5 = 9$"
      ],
      "text/plain": [
       "<IPython.core.display.Math object>"
      ]
     },
     "metadata": {},
     "output_type": "display_data"
    },
    {
     "data": {
      "text/latex": [
       "$\\displaystyle \\frac{4}{5} = .8$"
      ],
      "text/plain": [
       "<IPython.core.display.Math object>"
      ]
     },
     "metadata": {},
     "output_type": "display_data"
    },
    {
     "data": {
      "text/latex": [
       "$\\displaystyle 4 \\times 5 = 20$"
      ],
      "text/plain": [
       "<IPython.core.display.Math object>"
      ]
     },
     "metadata": {},
     "output_type": "display_data"
    },
    {
     "name": "stdout",
     "output_type": "stream",
     "text": [
      "################\n",
      "EXERCISE\n",
      "################\n"
     ]
    },
    {
     "data": {
      "text/latex": [
       "$\\displaystyle 3 \\times 7( 4 + -2 ) = 42$"
      ],
      "text/plain": [
       "<IPython.core.display.Math object>"
      ]
     },
     "metadata": {},
     "output_type": "display_data"
    },
    {
     "data": {
      "text/latex": [
       "$\\displaystyle - -2 - \\frac{7 + 3}{5} = 0$"
      ],
      "text/plain": [
       "<IPython.core.display.Math object>"
      ]
     },
     "metadata": {},
     "output_type": "display_data"
    }
   ],
   "source": [
    "\"\"\"\n",
    "    WRITING LATEX\n",
    "\"\"\"\n",
    "\n",
    "from IPython.display import display, Math\n",
    "\n",
    "display(\" 4 + 3 = 7\")\n",
    "display(\"4 + 3 = %s \" %str(4 +3))\n",
    "\n",
    "display(Math(\"4+3=7\"))\n",
    "\n",
    "x : int = 4\n",
    "y : int = 5\n",
    "\n",
    "display(Math(str(x+y)))\n",
    "display (Math ( str(x) + \" + \" +str(y) + \" = \" + str(x+y)))\n",
    "display( Math(\"%d + %d = %d\" % (x,y,x+y) ))\n",
    "display( Math(\"\\\\frac{4}{5} = .8\"))\n",
    "display( Math(\"%d \\\\times %d = %d\" % (x,y,x*y)))\n",
    "\n",
    "\"\"\"\n",
    "    Exercise Problems\n",
    "\"\"\"\n",
    "\n",
    "print(\"################\")\n",
    "print(\"EXERCISE\")\n",
    "print(\"################\")\n",
    "x : int = 7\n",
    "y : int = -2\n",
    "z : int = 5\n",
    "\n",
    "\n",
    "display(Math(\"3 \\\\times %d( 4 + %d ) = %d\" % (x,y,(3*x)*(4+y))))\n",
    "display(Math(\"- %d - \\\\frac{%d + 3}{%d} = %d\" % (y,x,z, 0)) )\n"
   ]
  },
  {
   "attachments": {},
   "cell_type": "markdown",
   "metadata": {},
   "source": [
    "## Exponents POWER"
   ]
  },
  {
   "cell_type": "code",
   "execution_count": 45,
   "metadata": {},
   "outputs": [
    {
     "data": {
      "text/latex": [
       "$\\displaystyle 3 ^3, 3 \\times 3 \\times 3 = 27 $"
      ],
      "text/plain": [
       "<IPython.core.display.Math object>"
      ]
     },
     "metadata": {},
     "output_type": "display_data"
    },
    {
     "data": {
      "text/latex": [
       "$\\displaystyle 2 ^2 \\times 2^4, 2^{2+4} = 2 \\times 2 \\times 2 \\times 2 \\times 2 \\times 2$"
      ],
      "text/plain": [
       "<IPython.core.display.Math object>"
      ]
     },
     "metadata": {},
     "output_type": "display_data"
    },
    {
     "data": {
      "text/latex": [
       "$\\displaystyle 5^{3/4} \\times 4^5 = 3933.09$"
      ],
      "text/plain": [
       "<IPython.core.display.Math object>"
      ]
     },
     "metadata": {},
     "output_type": "display_data"
    },
    {
     "data": {
      "text/latex": [
       "$\\displaystyle \\frac{3^3}{5^5.100000} = 0.00736$"
      ],
      "text/plain": [
       "<IPython.core.display.Math object>"
      ]
     },
     "metadata": {},
     "output_type": "display_data"
    },
    {
     "data": {
      "text/latex": [
       "$\\displaystyle 10^{5-4} = 10 $"
      ],
      "text/plain": [
       "<IPython.core.display.Math object>"
      ]
     },
     "metadata": {},
     "output_type": "display_data"
    }
   ],
   "source": [
    "import numpy as np\n",
    "## Exponents\n",
    "## Pada dasarnya ini fungsi power adalah untuk buat simetris yak ( Salah satunya )\n",
    "## katakannya 2 ^ 3 = 2 x 2 x 2 ( P x l x t ) Mengahsilkan suatu yang simetris\n",
    "x: int = 5\n",
    "\n",
    "display(Math(\"3 ^%d, 3 \\\\times 3 \\\\times 3 = %d \" % (3,27 )))\n",
    "display(Math(\"2 ^2 \\\\times 2^4, 2^{2+4} = 2 \\\\times 2 \\\\times 2 \\\\times 2 \\\\times 2 \\\\times 2\"))\n",
    "## Dan terkadang suka ada kan pangkat setengah, itu basically, untuk mendapatkan nilai simetris dari sebuah AREA ( salah satunya )\n",
    "## Misalnya kamu punya ladang Persegi dengan area 28, kamu ingin menempatkan keramik yang simetris sehingga \n",
    "## area 28 itu memiliki ukuran keramik yang simetris, maka kamu hanya perlu melakukan SQRT saja, dan mendapatkan 2 Variabel  ( P dan L )\n",
    "## yaitu 5,29 ( jadi kamu hanya perlu keramik dengan ukuran 5,29 * 5,29 )\n",
    "\n",
    "\n",
    "#########################################################################################################################\n",
    "# EXERCISES\n",
    "#########################################################################################################################\n",
    "x : float =5\n",
    "y : float = 5.1\n",
    "result1 = 5**(3/4) * 4**y\n",
    "result2 : float = (3**3) / (x**y)\n",
    "result3 : float = (10**(x-4))\n",
    "display(Math(\"%d^{3/4} \\\\times 4^%d = %.2f\" %(x,y,round(result1,2))))\n",
    "display(Math(\"\\\\frac{3^3}{%d^%f} = %.5f\" % (x,y, result2)))\n",
    "display(Math(\"10^{%d-4} = %d \" % (x,result3)))\n"
   ]
  },
  {
   "attachments": {},
   "cell_type": "markdown",
   "metadata": {},
   "source": [
    "# For Floops"
   ]
  },
  {
   "cell_type": "code",
   "execution_count": null,
   "metadata": {},
   "outputs": [],
   "source": []
  }
 ],
 "metadata": {
  "kernelspec": {
   "display_name": "DataSiens",
   "language": "python",
   "name": "python3"
  },
  "language_info": {
   "codemirror_mode": {
    "name": "ipython",
    "version": 3
   },
   "file_extension": ".py",
   "mimetype": "text/x-python",
   "name": "python",
   "nbconvert_exporter": "python",
   "pygments_lexer": "ipython3",
   "version": "3.9.12"
  },
  "orig_nbformat": 4,
  "vscode": {
   "interpreter": {
    "hash": "8a28ba3cb4290f43887b639e4d902048abae311a128a19465268895f960a8f8d"
   }
  }
 },
 "nbformat": 4,
 "nbformat_minor": 2
}
