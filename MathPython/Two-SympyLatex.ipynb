{
 "cells": [
  {
   "attachments": {},
   "cell_type": "markdown",
   "metadata": {},
   "source": [
    "# Sympy and Latex "
   ]
  },
  {
   "cell_type": "code",
   "execution_count": 38,
   "metadata": {},
   "outputs": [
    {
     "name": "stdout",
     "output_type": "stream",
     "text": [
      "<class 'sympy.core.symbol.Symbol'>\n"
     ]
    },
    {
     "data": {
      "image/png": "[encoded data removed]",
      "text/latex": [
       "$\\displaystyle x^{2}$"
      ],
      "text/plain": [
       " 2\n",
       "x "
      ]
     },
     "metadata": {},
     "output_type": "display_data"
    },
    {
     "data": {
      "image/png": "[encoded data removed]",
      "text/latex": [
       "$\\displaystyle \\frac{x}{y}$"
      ],
      "text/plain": [
       "x\n",
       "─\n",
       "y"
      ]
     },
     "metadata": {},
     "output_type": "display_data"
    },
    {
     "data": {
      "image/png": "[encoded data removed]",
      "text/latex": [
       "$\\displaystyle 1.4142135623731$"
      ],
      "text/plain": [
       "1.4142135623730951"
      ]
     },
     "metadata": {},
     "output_type": "display_data"
    },
    {
     "data": {
      "image/png": "[encoded data removed]",
      "text/latex": [
       "$\\displaystyle \\sqrt{2}$"
      ],
      "text/plain": [
       "√2"
      ]
     },
     "metadata": {},
     "output_type": "display_data"
    },
    {
     "data": {
      "image/png": "[encoded data removed]",
      "text/latex": [
       "$\\displaystyle x^{2} y$"
      ],
      "text/plain": [
       " 2  \n",
       "x ⋅y"
      ]
     },
     "metadata": {},
     "output_type": "display_data"
    },
    {
     "data": {
      "image/png": "[encoded data removed]",
      "text/latex": [
       "$\\displaystyle 2 x$"
      ],
      "text/plain": [
       "2⋅x"
      ]
     },
     "metadata": {},
     "output_type": "display_data"
    },
    {
     "data": {
      "image/png": "[encoded data removed]",
      "text/latex": [
       "$\\displaystyle x$"
      ],
      "text/plain": [
       "x"
      ]
     },
     "metadata": {},
     "output_type": "display_data"
    },
    {
     "data": {
      "image/png": "[encoded data removed]",
      "text/latex": [
       "$\\displaystyle x^{2} y$"
      ],
      "text/plain": [
       " 2  \n",
       "x ⋅y"
      ]
     },
     "metadata": {},
     "output_type": "display_data"
    },
    {
     "data": {
      "text/latex": [
       "$\\displaystyle 4 + 3 = 10$"
      ],
      "text/plain": [
       "<IPython.core.display.Math object>"
      ]
     },
     "metadata": {},
     "output_type": "display_data"
    },
    {
     "data": {
      "text/latex": [
       "$\\displaystyle \\sigma = \\mu \\times \\sqrt{30x+231Z2+31}$"
      ],
      "text/plain": [
       "<IPython.core.display.Math object>"
      ]
     },
     "metadata": {},
     "output_type": "display_data"
    },
    {
     "data": {
      "text/latex": [
       "$\\displaystyle x_{mm} + x^{n+k-20k}$"
      ],
      "text/plain": [
       "<IPython.core.display.Math object>"
      ]
     },
     "metadata": {},
     "output_type": "display_data"
    },
    {
     "data": {
      "text/latex": [
       "$\\displaystyle \\sqrt{x} \\times \\sqrt{x} = x$"
      ],
      "text/plain": [
       "<IPython.core.display.Math object>"
      ]
     },
     "metadata": {},
     "output_type": "display_data"
    },
    {
     "data": {
      "text/latex": [
       "$\\displaystyle \\frac{1+x}{2v-s^{30p - r}}$"
      ],
      "text/plain": [
       "<IPython.core.display.Math object>"
      ]
     },
     "metadata": {},
     "output_type": "display_data"
    },
    {
     "data": {
      "text/latex": [
       "$\\displaystyle \\text{The Answer to this equation is} \\frac{1+x}{2v-s^{3+s}}$"
      ],
      "text/plain": [
       "<IPython.core.display.Math object>"
      ]
     },
     "metadata": {},
     "output_type": "display_data"
    },
    {
     "data": {
      "text/latex": [
       "$\\displaystyle 4x + 5y - 8z = 17$"
      ],
      "text/plain": [
       "<IPython.core.display.Math object>"
      ]
     },
     "metadata": {},
     "output_type": "display_data"
    },
    {
     "data": {
      "text/latex": [
       "$\\displaystyle \\sin(2\\pi ft+\\theta)$"
      ],
      "text/plain": [
       "<IPython.core.display.Math object>"
      ]
     },
     "metadata": {},
     "output_type": "display_data"
    },
    {
     "data": {
      "text/latex": [
       "$\\displaystyle e = mc^2$"
      ],
      "text/plain": [
       "<IPython.core.display.Math object>"
      ]
     },
     "metadata": {},
     "output_type": "display_data"
    },
    {
     "data": {
      "text/latex": [
       "$\\displaystyle \\frac{4+5x^2}{(1+x)(1-x)}$"
      ],
      "text/plain": [
       "<IPython.core.display.Math object>"
      ]
     },
     "metadata": {},
     "output_type": "display_data"
    },
    {
     "data": {
      "image/png": "[encoded data removed]",
      "text/latex": [
       "$\\displaystyle e^{\\frac{\\left(- \\alpha + \\mu\\right)^{2}}{2 \\sigma^{2}}}$"
      ],
      "text/plain": [
       "         2\n",
       " (-α + μ) \n",
       " ─────────\n",
       "       2  \n",
       "    2⋅σ   \n",
       "ℯ         "
      ]
     },
     "metadata": {},
     "output_type": "display_data"
    },
    {
     "data": {
      "image/png": "[encoded data removed]",
      "text/latex": [
       "$\\displaystyle \\frac{prim}{10}$"
      ],
      "text/plain": [
       "prim\n",
       "────\n",
       " 10 "
      ]
     },
     "metadata": {},
     "output_type": "display_data"
    },
    {
     "data": {
      "text/plain": [
       "'x^{2} + 5 x + 72 y + 1.5'"
      ]
     },
     "metadata": {},
     "output_type": "display_data"
    },
    {
     "data": {
      "text/latex": [
       "$\\displaystyle x^{2} + 5 x + 72 y + 1.5$"
      ],
      "text/plain": [
       "<IPython.core.display.Math object>"
      ]
     },
     "metadata": {},
     "output_type": "display_data"
    }
   ],
   "source": [
    "#### The Sympy and Latex\n",
    "#############################################\n",
    "import sympy as sym\n",
    "import numpy as np\n",
    "from IPython.display import display,Math\n",
    "sym.init_printing()\n",
    "x,y = sym.symbols('x,y')\n",
    "\n",
    "print(type(x))\n",
    "\n",
    "\n",
    "############################################# Tidak perlu math library #############################################\n",
    "display(x**2)\n",
    "display(x/y)\n",
    "display(np.sqrt(2))\n",
    "display(sym.sqrt(2))\n",
    "\n",
    "############################################# Exercise #############################################\n",
    "display(y*x**2)\n",
    "display(sym.sqrt(4)*x)\n",
    "display(sym.sqrt(x)*sym.sqrt(x))\n",
    "############################################# Basically Sympy langsung memberikan/proses hasil yak, jadi untuk display not sufficient #############################################\n",
    "display(y*x**2)\n",
    "\n",
    "\n",
    "################################################################################################\n",
    "########################################################\n",
    "################################################################################################\n",
    "\n",
    "display(Math(\"4 + 3 = 10\"))\n",
    "\n",
    "display(Math(\"\\\\sigma = \\\\mu \\\\times \\\\sqrt{30x+231Z2+31}\"))\n",
    "display(Math(\"x_{mm} + x^{n+k-20k}\"))\n",
    "display(Math(\"\\\\sqrt{x} \\\\times \\\\sqrt{x} = x\"))\n",
    "display(Math(\"\\\\frac{1+x}{2v-s^{30p - r}}\"))\n",
    "display(Math(\"\\\\text{The Answer to this equation is} \\\\frac{1+x}{2v-s^{3+s}}\"))\n",
    "\n",
    "################################################################################################\n",
    "########################################################\n",
    "# Exercise \n",
    "################################################################################################\n",
    "#1\n",
    "display(Math(\"4x + 5y - 8z = 17\"))\n",
    "#2\n",
    "display(Math(\"\\\\sin(2\\\\pi ft+\\\\theta)\"))\n",
    "#3\n",
    "display(Math(\"e = mc^2\"))\n",
    "#4\n",
    "display(Math(\"\\\\frac{4+5x^2}{(1+x)(1-x)}\"))\n",
    "\n",
    "\n",
    "\n",
    "############################################################################\n",
    "############################################################################\n",
    "# The output here going to be the mu symbol, alpha symbol\n",
    "############################################################################\n",
    "mu, alpha, sigma = sym.symbols(\"mu,alpha,sigma\")\n",
    "prim = sym.symbols(\"prim\")\n",
    "sym.init_printing()\n",
    "\n",
    "expr = sym.exp( (mu-alpha)**2 / (2*sigma**2) )\n",
    "display(expr)\n",
    "display(prim / 10)\n",
    "\n",
    "#####\n",
    "############################################################################\n",
    "############################################################################\n",
    "# Kegunaannya ada disini bang, Subsitusi nilai\n",
    "############################################################################\n",
    "\n",
    "x,y = sym.symbols(\"x,y\")\n",
    "expression = x+4 +y\n",
    "expression.subs({\"x\": 10,\"y\" : 20})\n",
    "\n",
    "\n",
    "\n",
    "############################################################################\n",
    "############################################################################\n",
    "# Untuk tau latexnya bang dari expression, bisa pake ini\n",
    "############################################################################\n",
    "expres = x**2+(3/2) + 5*x + 72*y\n",
    "display(sym.latex(expres))\n",
    "display(Math(sym.latex(expres)))"
   ]
  },
  {
   "cell_type": "code",
   "execution_count": 39,
   "metadata": {},
   "outputs": [
    {
     "data": {
      "text/plain": [
       "'x^{2} + 5 x + 72 y + 1.5'"
      ]
     },
     "metadata": {},
     "output_type": "display_data"
    },
    {
     "data": {
      "text/latex": [
       "$\\displaystyle x^{2} + 5 x + 72 y + 1.5$"
      ],
      "text/plain": [
       "<IPython.core.display.Math object>"
      ]
     },
     "metadata": {},
     "output_type": "display_data"
    }
   ],
   "source": [
    "############################################################################\n",
    "############################################################################\n",
    "# Untuk tau latexnya bang dari expression, bisa pake ini\n",
    "############################################################################\n",
    "expres = x**2+(3/2) + 5*x + 72*y\n",
    "display(sym.latex(expres))\n",
    "display(Math(sym.latex(expres)))"
   ]
  },
  {
   "cell_type": "code",
   "execution_count": null,
   "metadata": {},
   "outputs": [],
   "source": []
  },
  {
   "cell_type": "code",
   "execution_count": 75,
   "metadata": {},
   "outputs": [
    {
     "data": {
      "text/plain": [
       "'\\\\frac{3}{2}'"
      ]
     },
     "metadata": {},
     "output_type": "display_data"
    },
    {
     "data": {
      "text/latex": [
       "$\\displaystyle \\text{With x} = -2, x^{2} + 4 \\quad \\Rightarrow \\quad -2^2+4 = 8 $"
      ],
      "text/plain": [
       "<IPython.core.display.Math object>"
      ]
     },
     "metadata": {},
     "output_type": "display_data"
    },
    {
     "data": {
      "text/latex": [
       "$\\displaystyle \\text{With x} = -1, x^{2} + 4 \\quad \\Rightarrow \\quad -1^2+4 = 5 $"
      ],
      "text/plain": [
       "<IPython.core.display.Math object>"
      ]
     },
     "metadata": {},
     "output_type": "display_data"
    },
    {
     "data": {
      "text/latex": [
       "$\\displaystyle \\text{With x} = 0, x^{2} + 4 \\quad \\Rightarrow \\quad 0^2+4 = 4 $"
      ],
      "text/plain": [
       "<IPython.core.display.Math object>"
      ]
     },
     "metadata": {},
     "output_type": "display_data"
    },
    {
     "data": {
      "text/latex": [
       "$\\displaystyle \\text{With x} = 1, x^{2} + 4 \\quad \\Rightarrow \\quad 1^2+4 = 5 $"
      ],
      "text/plain": [
       "<IPython.core.display.Math object>"
      ]
     },
     "metadata": {},
     "output_type": "display_data"
    },
    {
     "data": {
      "text/latex": [
       "$\\displaystyle \\text{With x} = 2, x^{2} + 4 \\quad \\Rightarrow \\quad 2^2+4 = 8 $"
      ],
      "text/plain": [
       "<IPython.core.display.Math object>"
      ]
     },
     "metadata": {},
     "output_type": "display_data"
    },
    {
     "data": {
      "text/latex": [
       "$\\displaystyle \\text{With z} = 5, z + 5 \\quad \\Rightarrow \\quad 5^2+5 = 30 $"
      ],
      "text/plain": [
       "<IPython.core.display.Math object>"
      ]
     },
     "metadata": {},
     "output_type": "display_data"
    },
    {
     "data": {
      "text/latex": [
       "$\\displaystyle \\text{With z} = 6, z + 5 \\quad \\Rightarrow \\quad 6^2+5 = 41 $"
      ],
      "text/plain": [
       "<IPython.core.display.Math object>"
      ]
     },
     "metadata": {},
     "output_type": "display_data"
    },
    {
     "data": {
      "text/latex": [
       "$\\displaystyle \\text{With z} = 7, z + 5 \\quad \\Rightarrow \\quad 7^2+5 = 54 $"
      ],
      "text/plain": [
       "<IPython.core.display.Math object>"
      ]
     },
     "metadata": {},
     "output_type": "display_data"
    },
    {
     "data": {
      "text/latex": [
       "$\\displaystyle \\text{With z} = 8, z + 5 \\quad \\Rightarrow \\quad 8^2+5 = 69 $"
      ],
      "text/plain": [
       "<IPython.core.display.Math object>"
      ]
     },
     "metadata": {},
     "output_type": "display_data"
    },
    {
     "data": {
      "text/latex": [
       "$\\displaystyle \\text{With z} = 9, z + 5 \\quad \\Rightarrow \\quad 9^2+5 = 86 $"
      ],
      "text/plain": [
       "<IPython.core.display.Math object>"
      ]
     },
     "metadata": {},
     "output_type": "display_data"
    },
    {
     "data": {
      "text/latex": [
       "$\\displaystyle \\text{With z} = 10, z + 5 \\quad \\Rightarrow \\quad 10^2+5 = 105 $"
      ],
      "text/plain": [
       "<IPython.core.display.Math object>"
      ]
     },
     "metadata": {},
     "output_type": "display_data"
    }
   ],
   "source": [
    "############################################################################\n",
    "############################################################################\n",
    "# Untuk bisa convert String num representation, agar bisa di convert ke latex oleh sympy, you need to use the SYMPY object\n",
    "# Kalau hasilnya desimal yak, 0. sekian baru bisa, kalau ya you now sym pasti ngasih hasil\n",
    "# AKHIR\n",
    "############################################################################\n",
    "expres = \"5**2 + (3/2) + 5*4 + 72*2\"\n",
    "display(sym.latex(sym.sympify('3/2')))\n",
    "\n",
    "############################################################################\n",
    "############################################################################\n",
    "# EXERCISE\n",
    "############################################################################\n",
    "x = sym.symbols('x')\n",
    "expression = x**2 + 4\n",
    "for i in range(-2,3):\n",
    "    display(Math(\"\\\\text{With x} = %g, %s \\\\quad \\\\Rightarrow \\\\quad %g^2+4 = %g \"% (i, sym.latex(expression), i,expression.subs(x,i))))\n",
    "\n",
    "z = sym.symbols(\"z\")\n",
    "for i in range(5,11):\n",
    "    exp = (z+5)\n",
    "    ans = exp.subs(z,i**2)\n",
    "    display(Math(\"\\\\text{With z} = %g, %s \\\\quad \\\\Rightarrow \\\\quad %g^2+5 = %g \"% (i, sym.latex(exp), i,ans)))\n"
   ]
  },
  {
   "attachments": {},
   "cell_type": "markdown",
   "metadata": {},
   "source": [
    "## Pythonic Code\n",
    "Hello Everyone $\\sqrt{4/3} + 30x$"
   ]
  },
  {
   "cell_type": "code",
   "execution_count": 25,
   "metadata": {},
   "outputs": [
    {
     "name": "stdout",
     "output_type": "stream",
     "text": [
      "Hi Mike and 7\n"
     ]
    }
   ],
   "source": [
    "## F-Strings\n",
    "\n",
    "svar : str = \"Mike\"\n",
    "nvar : int = 7\n",
    "print(f\"Hi {svar} and {nvar}\")"
   ]
  },
  {
   "cell_type": "code",
   "execution_count": 78,
   "metadata": {},
   "outputs": [
    {
     "data": {
      "image/png": "[encoded data removed]",
      "text/latex": [
       "$\\displaystyle x^{y} x^{z}$"
      ],
      "text/plain": [
       " y  z\n",
       "x ⋅x "
      ]
     },
     "metadata": {},
     "output_type": "display_data"
    },
    {
     "data": {
      "image/png": "[encoded data removed]",
      "text/latex": [
       "$\\displaystyle x^{y + z}$"
      ],
      "text/plain": [
       " y + z\n",
       "x     "
      ]
     },
     "metadata": {},
     "output_type": "display_data"
    }
   ],
   "source": [
    "##################################################################################################################################\n",
    "############Understanding the Mathematical Concept using Sympy\n",
    "##################################################################################################################################\n",
    "\n",
    "x, y, z = sym.symbols(\"x,y,z\")\n",
    "expres = x**y * x**z \n",
    "display(expres)\n",
    "display(sym.simplify(expres)) # If can return the simplify, otherwise no"
   ]
  },
  {
   "cell_type": "code",
   "execution_count": 80,
   "metadata": {},
   "outputs": [
    {
     "data": {
      "text/latex": [
       "$\\displaystyle x^{y} x^{z} = x^{y + z}$"
      ],
      "text/plain": [
       "<IPython.core.display.Math object>"
      ]
     },
     "metadata": {},
     "output_type": "display_data"
    },
    {
     "data": {
      "text/latex": [
       "$\\displaystyle y^{- x} y^{z} = y^{- x + z}$"
      ],
      "text/plain": [
       "<IPython.core.display.Math object>"
      ]
     },
     "metadata": {},
     "output_type": "display_data"
    },
    {
     "data": {
      "text/latex": [
       "$\\displaystyle x^{y} y^{z} = x^{y} y^{z}$"
      ],
      "text/plain": [
       "<IPython.core.display.Math object>"
      ]
     },
     "metadata": {},
     "output_type": "display_data"
    }
   ],
   "source": [
    "ex1 = x**y * x**z \n",
    "ex2 = y**z / y**x\n",
    "ex3 = x**y * y**z\n",
    "\n",
    "sEx1 = sym.simplify(ex1)\n",
    "sEx2 = sym.simplify(ex2)\n",
    "sEx3 = sym.simplify(ex3)\n",
    "\n",
    "display(Math(\"%s = %s\" % (sym.latex(ex1),sym.latex(sEx1))))\n",
    "display(Math(\"%s = %s\" % (sym.latex(ex2),sym.latex(sEx2))))\n",
    "display(Math(\"%s = %s\" % (sym.latex(ex3),sym.latex(sEx3))))"
   ]
  },
  {
   "cell_type": "code",
   "execution_count": 92,
   "metadata": {},
   "outputs": [
    {
     "data": {
      "text/latex": [
       "$\\displaystyle 2 e^{\\frac{\\mu^{2}}{\\alpha}}$"
      ],
      "text/plain": [
       "<IPython.core.display.Math object>"
      ]
     },
     "metadata": {},
     "output_type": "display_data"
    }
   ],
   "source": [
    "################################# BUG HUNT START #################################\n",
    "\"\"\" \n",
    "mu,alpha = sym.symbols('mu,alpha')\n",
    "\n",
    "expr = 2*sym.exp(mu**2/alpha)\n",
    "\n",
    "display(Math( expr ))\n",
    "\"\"\"\n",
    "mu, alpha = sym.symbols(\"mu, alpha\")\n",
    "expr = 2*sym.exp(mu**2/alpha)\n",
    "display(Math(sym.latex(expr)))\n"
   ]
  },
  {
   "cell_type": "code",
   "execution_count": 93,
   "metadata": {},
   "outputs": [
    {
     "data": {
      "text/latex": [
       "$\\displaystyle 1234 + \\frac{3x}{\\sin(2\\pi t+\\theta)}$"
      ],
      "text/plain": [
       "<IPython.core.display.Math object>"
      ]
     },
     "metadata": {},
     "output_type": "display_data"
    }
   ],
   "source": [
    "\"\"\" \n",
    "Math('1234 + \\frac{3x}{\\sin(2\\pi t+\\theta)}')\n",
    "\"\"\"\n",
    "display(Math(\"1234 + \\\\frac{3x}{\\\\sin(2\\\\pi t+\\\\theta)}\"))"
   ]
  },
  {
   "cell_type": "code",
   "execution_count": 94,
   "metadata": {},
   "outputs": [
    {
     "data": {
      "image/png": "[encoded data removed]",
      "text/latex": [
       "$\\displaystyle 7$"
      ],
      "text/plain": [
       "7"
      ]
     },
     "metadata": {},
     "output_type": "display_data"
    }
   ],
   "source": [
    "\"\"\" \n",
    "    a = '3'\n",
    "    b = '4'\n",
    "    # answer should be 7\n",
    "    print(sym.sympify(a+b))\n",
    "\"\"\"\n",
    "a : int = 3\n",
    "b : int = 4\n",
    "\n",
    "display(sym.sympify(a+b))"
   ]
  },
  {
   "cell_type": "code",
   "execution_count": 96,
   "metadata": {},
   "outputs": [
    {
     "data": {
      "text/latex": [
       "$\\displaystyle \\text{True}$"
      ],
      "text/plain": [
       "True"
      ]
     },
     "execution_count": 96,
     "metadata": {},
     "output_type": "execute_result"
    }
   ],
   "source": [
    "#  sym.Eq( 4*x = 2 )\n",
    "x=1/2\n",
    "sym.Eq(4*x , 2)"
   ]
  },
  {
   "cell_type": "code",
   "execution_count": 115,
   "metadata": {},
   "outputs": [
    {
     "data": {
      "text/latex": [
       "$\\displaystyle x^{2}$"
      ],
      "text/plain": [
       "<IPython.core.display.Math object>"
      ]
     },
     "metadata": {},
     "output_type": "display_data"
    },
    {
     "data": {
      "text/latex": [
       "$\\displaystyle x^{2}$"
      ],
      "text/plain": [
       "<IPython.core.display.Math object>"
      ]
     },
     "metadata": {},
     "output_type": "display_data"
    }
   ],
   "source": [
    "\"\"\" \n",
    "\n",
    "# part 1 of 2\n",
    "\n",
    "q = x^2\n",
    "r = x**2\n",
    "\n",
    "display(q)\n",
    "display(r)\n",
    "\"\"\"\n",
    "\n",
    "q = x**2\n",
    "r = x**2\n",
    "\n",
    "display(Math(sym.latex(q)))\n",
    "display(Math(sym.latex(r)))"
   ]
  },
  {
   "cell_type": "code",
   "execution_count": 103,
   "metadata": {},
   "outputs": [
    {
     "data": {
      "image/png": "[encoded data removed]",
      "text/latex": [
       "$\\displaystyle x^{2}$"
      ],
      "text/plain": [
       " 2\n",
       "x "
      ]
     },
     "metadata": {},
     "output_type": "display_data"
    },
    {
     "data": {
      "image/png": "[encoded data removed]",
      "text/latex": [
       "$\\displaystyle x^{2}$"
      ],
      "text/plain": [
       " 2\n",
       "x "
      ]
     },
     "metadata": {},
     "output_type": "display_data"
    },
    {
     "data": {
      "text/latex": [
       "$\\displaystyle \\text{True}$"
      ],
      "text/plain": [
       "True"
      ]
     },
     "execution_count": 103,
     "metadata": {},
     "output_type": "execute_result"
    }
   ],
   "source": [
    "\"\"\" \n",
    " part 2 of 2\n",
    "\n",
    "q,r = sym.symbols('q,r')\n",
    "\n",
    "q = sym.sympify('x^2')\n",
    "r = sym.sympify('x**2')\n",
    "\n",
    "display(q)\n",
    "display(r)\n",
    "\n",
    "sym.Eq(q,r)\n",
    "\"\"\"\n",
    "q,r =sym.symbols('q,r')\n",
    "q = sym.sympify(\"x^2\")\n",
    "r = sym.sympify(\"x^2\")\n",
    "display(q)\n",
    "display(r)\n",
    "\n",
    "sym.Eq(q,r)"
   ]
  },
  {
   "cell_type": "code",
   "execution_count": 105,
   "metadata": {},
   "outputs": [
    {
     "data": {
      "text/latex": [
       "$\\displaystyle \\left(4 x^{2} - 5 x + 10\\right)^{0.5}$"
      ],
      "text/plain": [
       "<IPython.core.display.Math object>"
      ]
     },
     "metadata": {},
     "output_type": "display_data"
    },
    {
     "data": {
      "image/png": "[encoded data removed]",
      "text/latex": [
       "$\\displaystyle 5.56776436283002$"
      ],
      "text/plain": [
       "5.56776436283002"
      ]
     },
     "metadata": {},
     "output_type": "display_data"
    }
   ],
   "source": [
    "\"\"\" \n",
    "x = sym.symbols('x')\n",
    "\n",
    "equation = (4*x**2 - 5*x + 10)**(1/2)\n",
    "display(equation)\n",
    "sym.subs(equation,x,3)\n",
    "\n",
    "\"\"\"\n",
    "\n",
    "x = sym.symbols('x')\n",
    "\n",
    "equation = (4*x**2 - 5*x + 10)**(1/2)\n",
    "display(Math(sym.latex(equation)))\n",
    "display(equation.subs(x,3))"
   ]
  },
  {
   "cell_type": "code",
   "execution_count": 106,
   "metadata": {},
   "outputs": [
    {
     "data": {
      "text/latex": [
       "$\\displaystyle 0.25 x y^{2} - x \\left(5 x + 10 y^{2}\\right)^{3}$"
      ],
      "text/plain": [
       "<IPython.core.display.Math object>"
      ]
     },
     "metadata": {},
     "output_type": "display_data"
    }
   ],
   "source": [
    "\"\"\" \n",
    "x,y = sym.symbols('x,y')\n",
    "\n",
    "equation = 1/4*x*y**2 - x*(5*x + 10*Y**2)**(3)\n",
    "display(equation)\n",
    "\"\"\"\n",
    " \n",
    "x,y =sym.symbols(\"x,y\")\n",
    "\n",
    "equation = 1/4*x*y**2 -x*(5*x + 10*y**2)**3\n",
    "display(Math(sym.latex(equation)))"
   ]
  },
  {
   "cell_type": "code",
   "execution_count": null,
   "metadata": {},
   "outputs": [],
   "source": [
    "\n",
    "################################# BUG HUNT END #################################"
   ]
  },
  {
   "cell_type": "code",
   "execution_count": 90,
   "metadata": {},
   "outputs": [
    {
     "name": "stdout",
     "output_type": "stream",
     "text": [
      "List element 0 is 3 and is of type int\n",
      "List element 1 is ['3', '4', '5'] and is of type list\n",
      "List element 2 is [5.5] and is of type list\n",
      "List element 3 is [4, 5, 6] and is of type list\n"
     ]
    }
   ],
   "source": [
    "samples = [3, \n",
    "           ['3', '4', '5'],\n",
    "           [5.5],\n",
    "           [4,5,6]\n",
    "           ]\n",
    "for s in range(len(samples)):\n",
    "    t = str(type(samples[s]))[8:]\n",
    "    print(\"List element %g is %s and is of type %s\" %(s, samples[s], t[:t.find(\"'\")]))"
   ]
  }
 ],
 "metadata": {
  "kernelspec": {
   "display_name": "DataSiens",
   "language": "python",
   "name": "python3"
  },
  "language_info": {
   "codemirror_mode": {
    "name": "ipython",
    "version": 3
   },
   "file_extension": ".py",
   "mimetype": "text/x-python",
   "name": "python",
   "nbconvert_exporter": "python",
   "pygments_lexer": "ipython3",
   "version": "3.9.12"
  },
  "orig_nbformat": 4,
  "vscode": {
   "interpreter": {
    "hash": "8a28ba3cb4290f43887b639e4d902048abae311a128a19465268895f960a8f8d"
   }
  }
 },
 "nbformat": 4,
 "nbformat_minor": 2
}
