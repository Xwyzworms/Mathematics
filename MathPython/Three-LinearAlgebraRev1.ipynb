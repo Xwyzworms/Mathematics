{
 "cells": [
  {
   "cell_type": "code",
   "execution_count": 22,
   "metadata": {},
   "outputs": [
    {
     "data": {
      "text/latex": [
       "$\\displaystyle \\text{Solution to 2 x - 5 \\text{ is x=} 2.5}$"
      ],
      "text/plain": [
       "<IPython.core.display.Math object>"
      ]
     },
     "metadata": {},
     "output_type": "display_data"
    },
    {
     "name": "stdout",
     "output_type": "stream",
     "text": [
      "[-2, 2]\n"
     ]
    },
    {
     "data": {
      "text/plain": [
       "[20/(4*y - 1)]"
      ]
     },
     "metadata": {},
     "output_type": "display_data"
    },
    {
     "data": {
      "text/plain": [
       "[(x + 20)/(4*x)]"
      ]
     },
     "metadata": {},
     "output_type": "display_data"
    },
    {
     "data": {
      "text/latex": [
       "$\\displaystyle \\left[ \\frac{1}{2} - \\frac{\\sqrt{7}}{2}, \\  \\frac{1}{2} + \\frac{\\sqrt{7}}{2}\\right]$"
      ],
      "text/plain": [
       "<IPython.core.display.Math object>"
      ]
     },
     "metadata": {},
     "output_type": "display_data"
    }
   ],
   "source": [
    "import sympy as sym\n",
    "from IPython.display import display, Math\n",
    "\n",
    "x = sym.symbols(\"x\")\n",
    "\n",
    "expr = 2*x + 4 - 9\n",
    "sym.solve(expr)\n",
    "\n",
    "display(Math(\"\\\\text{Solution to %s \\\\text{ is x=} %g}\" % (sym.latex(expr), sym.solve(expr)[0] )))\n",
    "print(sym.solve(x**2 - 4))\n",
    "\n",
    "##@######################################################################################\n",
    "\n",
    "x = sym.symbols(\"x\")\n",
    "y = sym.symbols(\"y\")\n",
    "expr =  x/4 - x*y +5 \n",
    "display(sym.solve(expr,x))\n",
    "display(sym.solve(expr,y))\n",
    "\n",
    "\n",
    "##@######################################################################################\n",
    "##@######################################################################################\n",
    "# Exercise \n",
    "q = sym.symbols(\"q\")\n",
    "expr_1 = 3*q + 4/q + 3 - (5*q + 1/q + 1)\n",
    "display(Math(sym.latex(sym.solve(expr_1))))\n",
    "\n",
    "\n",
    "\n",
    "##@######################################################################################\n",
    "##@######################################################################################\n"
   ]
  },
  {
   "cell_type": "code",
   "execution_count": null,
   "metadata": {},
   "outputs": [],
   "source": []
  }
 ],
 "metadata": {
  "kernelspec": {
   "display_name": "DataSiens",
   "language": "python",
   "name": "python3"
  },
  "language_info": {
   "codemirror_mode": {
    "name": "ipython",
    "version": 3
   },
   "file_extension": ".py",
   "mimetype": "text/x-python",
   "name": "python",
   "nbconvert_exporter": "python",
   "pygments_lexer": "ipython3",
   "version": "3.9.12"
  },
  "orig_nbformat": 4,
  "vscode": {
   "interpreter": {
    "hash": "8a28ba3cb4290f43887b639e4d902048abae311a128a19465268895f960a8f8d"
   }
  }
 },
 "nbformat": 4,
 "nbformat_minor": 2
}
